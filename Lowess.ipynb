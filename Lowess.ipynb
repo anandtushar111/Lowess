{
  "nbformat": 4,
  "nbformat_minor": 0,
  "metadata": {
    "colab": {
      "name": "Lowess.ipynb",
      "version": "0.3.2",
      "provenance": [],
      "include_colab_link": true
    },
    "kernelspec": {
      "name": "python3",
      "display_name": "Python 3"
    }
  },
  "cells": [
    {
      "cell_type": "markdown",
      "metadata": {
        "id": "view-in-github",
        "colab_type": "text"
      },
      "source": [
        "<a href=\"https://colab.research.google.com/github/anandtushar111/Lowess/blob/master/Lowess.ipynb\" target=\"_parent\"><img src=\"https://colab.research.google.com/assets/colab-badge.svg\" alt=\"Open In Colab\"/></a>"
      ]
    },
    {
      "cell_type": "markdown",
      "metadata": {
        "id": "kFRP_TYqWX9M",
        "colab_type": "text"
      },
      "source": [
        "# **Locally Weighted Regression**\n",
        "\n",
        "1.   Read and Normalise Datasets\n",
        "2.   Generate W for every query point!\n",
        "3.   No training is involved, directly make prediction using closed   form solution we derived!\n",
        "(X'WX)inv * X'WY where X' is X_Transpose\n",
        "4.   Find the best value of Tau(Bandwidth Parameter)[Cross Validation]\n",
        "\n"
      ]
    },
    {
      "cell_type": "markdown",
      "metadata": {
        "id": "2M89ollJXoSO",
        "colab_type": "text"
      },
      "source": [
        "# **Loading Data**"
      ]
    },
    {
      "cell_type": "code",
      "metadata": {
        "id": "wKkMrBIbXm2k",
        "colab_type": "code",
        "colab": {}
      },
      "source": [
        "import numpy as np\n",
        "import pandas as pd\n",
        "import matplotlib.pyplot as plt\n",
        "%matplotlib inline"
      ],
      "execution_count": 0,
      "outputs": []
    },
    {
      "cell_type": "code",
      "metadata": {
        "id": "U6DbxulqYT3h",
        "colab_type": "code",
        "colab": {}
      },
      "source": [
        "dfx = pd.read_csv('/content/weightedX.csv')\n",
        "dfy = pd.read_csv('/content/weightedY.csv')"
      ],
      "execution_count": 0,
      "outputs": []
    },
    {
      "cell_type": "code",
      "metadata": {
        "id": "UR3yBIHIZFU9",
        "colab_type": "code",
        "colab": {}
      },
      "source": [
        "X = dfx.values\n",
        "Y = dfy.values"
      ],
      "execution_count": 0,
      "outputs": []
    },
    {
      "cell_type": "code",
      "metadata": {
        "id": "ktazpphSZNfE",
        "colab_type": "code",
        "colab": {}
      },
      "source": [
        "print(X.shape, Y.shape)"
      ],
      "execution_count": 0,
      "outputs": []
    },
    {
      "cell_type": "code",
      "metadata": {
        "id": "9zu9B5JfZSIy",
        "colab_type": "code",
        "colab": {}
      },
      "source": [
        "X = (X-X.mean())/X.std()"
      ],
      "execution_count": 0,
      "outputs": []
    },
    {
      "cell_type": "code",
      "metadata": {
        "id": "4ilY8m7VZdLU",
        "colab_type": "code",
        "colab": {}
      },
      "source": [
        "plt.style.use('seaborn')\n",
        "plt.title('Normalized Data')\n",
        "plt.scatter(X,Y)\n",
        "plt.show()"
      ],
      "execution_count": 0,
      "outputs": []
    },
    {
      "cell_type": "markdown",
      "metadata": {
        "id": "oQt_-SXfaY1D",
        "colab_type": "text"
      },
      "source": [
        "# **2. Find out W(mxm) diagonal matrix**"
      ]
    },
    {
      "cell_type": "code",
      "metadata": {
        "id": "Qd6GIFu5ZiAV",
        "colab_type": "code",
        "colab": {}
      },
      "source": [
        "#print(type(np.mat(np.eye(5))))\n",
        "# a*b --> a,b --> matrices --> matrix multiplication\n",
        "# a*b -->? a,b -->arrays -->Element Wise"
      ],
      "execution_count": 0,
      "outputs": []
    },
    {
      "cell_type": "code",
      "metadata": {
        "id": "C-0SgSQxa6Ni",
        "colab_type": "code",
        "colab": {}
      },
      "source": [
        "def getW(query_point,X,tau):\n",
        "  M = X.shape[0]\n",
        "  W = np.mat(np.eye(M))\n",
        "  \n",
        "  for i in range(M):\n",
        "    xi = X[i]\n",
        "    x = query_point\n",
        "    W[i,i] = np.exp(np.dot((xi-x),(xi-x).T)/(-2*tau*tau))\n",
        "    #print(W[i,i])\n",
        "    \n",
        "  return W"
      ],
      "execution_count": 0,
      "outputs": []
    },
    {
      "cell_type": "code",
      "metadata": {
        "id": "2jD391jYeFDY",
        "colab_type": "code",
        "colab": {}
      },
      "source": [
        "X = np.mat(X)\n",
        "Y = np.mat(X)\n",
        "M = X.shape[0]\n",
        "W = getW(-1, X, 100)\n",
        "print(W.shape)\n",
        "print(W)"
      ],
      "execution_count": 0,
      "outputs": []
    },
    {
      "cell_type": "code",
      "metadata": {
        "id": "b44u8Z-aYgYB",
        "colab_type": "code",
        "colab": {}
      },
      "source": [
        "print(X)"
      ],
      "execution_count": 0,
      "outputs": []
    },
    {
      "cell_type": "markdown",
      "metadata": {
        "id": "uApwjOtpvaHi",
        "colab_type": "text"
      },
      "source": [
        "# **Prediction**"
      ]
    },
    {
      "cell_type": "code",
      "metadata": {
        "id": "LUrS3SXree3o",
        "colab_type": "code",
        "colab": {}
      },
      "source": [
        "def predict(X,Y,query_x,tau):\n",
        "  #M = X.shape[0]\n",
        "  ones = np.ones((M,1))\n",
        "  X_ = np.hstack((X,ones))\n",
        "  qx = np.mat([query_x,1])\n",
        "  W = getW(qx, X_, tau)\n",
        "  \n",
        "  print(W)\n",
        "  \n",
        "  theta = np.linalg.pinv(X_.T*(W*X_))*(X_.T*(W*Y))\n",
        "  #print(theta.shape)\n",
        "  pred = np.dot(qx,theta)\n",
        "  return theta,pred"
      ],
      "execution_count": 0,
      "outputs": []
    },
    {
      "cell_type": "code",
      "metadata": {
        "id": "KZ9iRtbDwhC2",
        "colab_type": "code",
        "colab": {}
      },
      "source": [
        "theta,pred = predict(X,Y,1.0,0.1)"
      ],
      "execution_count": 0,
      "outputs": []
    },
    {
      "cell_type": "code",
      "metadata": {
        "id": "euqRL74RwoYW",
        "colab_type": "code",
        "colab": {}
      },
      "source": [
        "print(theta)"
      ],
      "execution_count": 0,
      "outputs": []
    },
    {
      "cell_type": "code",
      "metadata": {
        "id": "s1FRLxGhwvJX",
        "colab_type": "code",
        "colab": {}
      },
      "source": [
        "print(pred)"
      ],
      "execution_count": 0,
      "outputs": []
    },
    {
      "cell_type": "markdown",
      "metadata": {
        "id": "9j92ZsgkUw_J",
        "colab_type": "text"
      },
      "source": [
        "# **4. Visualize Predictions, Analyse the effect of Tau**"
      ]
    },
    {
      "cell_type": "code",
      "metadata": {
        "id": "-Og-DY7lUwuh",
        "colab_type": "code",
        "colab": {}
      },
      "source": [
        "def plotPrediction(tau):\n",
        "  X_test = np.linspace(-2,2,10)\n",
        "  Y_test = []\n",
        "  \n",
        "  for xq in X_test:\n",
        "    theta, pred = predict(X,Y,xq,tau)\n",
        "    Y_test.append(pred[0][0])\n",
        "    \n",
        "  Y_test = np.array(Y_test)\n",
        "  X0 = np.array(X)\n",
        "  Y0 = np.array(Y)\n",
        "  \n",
        "  plt.scatter(X0,Y0)\n",
        "  plt.scatter(X_test, Y_test,color='red')\n",
        "  plt.show()"
      ],
      "execution_count": 0,
      "outputs": []
    },
    {
      "cell_type": "code",
      "metadata": {
        "id": "mVNM-byMxa7o",
        "colab_type": "code",
        "colab": {}
      },
      "source": [
        "plotPrediction(1)"
      ],
      "execution_count": 0,
      "outputs": []
    },
    {
      "cell_type": "code",
      "metadata": {
        "id": "7DjfdhaeWONP",
        "colab_type": "code",
        "colab": {}
      },
      "source": [
        ""
      ],
      "execution_count": 0,
      "outputs": []
    }
  ]
}